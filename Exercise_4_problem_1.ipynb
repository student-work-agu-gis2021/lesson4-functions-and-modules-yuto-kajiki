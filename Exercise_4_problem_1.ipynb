{
 "cells": [
  {
   "cell_type": "markdown",
   "metadata": {
    "deletable": false,
    "editable": false,
    "nbgrader": {
     "cell_type": "markdown",
     "checksum": "60ddd2c864e876d230bd21a2eedc9456",
     "grade": false,
     "grade_id": "cell-2ed044cb8a3a375f",
     "locked": true,
     "schema_version": 3,
     "solution": false
    }
   },
   "source": [
    "## Problem 1 - Simple temperature calculator (*3 points*)\n",
    "\n",
    "In the first problem your aim is to create a function that converts the input temperature from degrees Fahrenheit to degrees Celsius. The conversion formula from Fahrenheit to Celsius can be found below.\n",
    "\n",
    "\\begin{equation}\n",
    "  \\Large\n",
    "  T_{\\mathrm{Celsius}} = \\left( T_{\\mathrm{Fahrenheit}} - 32 \\right) / 1.8\n",
    "\\end{equation}\n",
    "\n",
    "If everything in your script is working properly the following test case should work:\n",
    "\n",
    "  ```python\n",
    "  >>> print(\"32 degrees Fahrenheit in Celsius is:\", fahr_to_celsius(32))\n",
    "  32 degrees Fahrenheit in Celsius is: 0.0\n",
    "  ```\n",
    "\n",
    "**Notice**: Closely follow the instructions! For example, you should be sure to use **exactly** the same variable, function, and parameter names as stated in the instructions because your answers will be automatically graded, and the tests that grade your answers rely on following the same formatting or variable naming as in the instructions. Also, please do not copy/paste existing code cells. You can add cells if you like, but copying and pasting can also cause the automatic tests to fail.\n",
    "\n",
    "**Your score on this problem will be based on following criteria:**\n",
    "\n",
    "- Creating a function called `fahr_to_celsius`\n",
    "- Defining the function to have one input parameter called `temp_fahrenheit`\n",
    "- Creating a variable called `converted_temp` inside the function to which you should assign the conversion result (i.e., the input Fahrenheit temperature converted to Celsius)\n",
    "- Returning the converted value from the function back to the user\n",
    "- Answering some questions about functions at the end of this problem\n",
    "- Adding comments in your code and a docstring that explains how to use your `fahr_to_celsius` function (i.e., you should write the purpose of the function, parameters, and returned values)\n",
    "- Uploading your notebook to your GitHub repository for this week's exercise"
   ]
  },
  {
   "cell_type": "code",
   "execution_count": null,
   "metadata": {
    "deletable": false,
    "nbgrader": {
     "cell_type": "code",
     "checksum": "d748fcb7f3573530c4affddd7cf9b4ce",
     "grade": false,
     "grade_id": "problem_1_ag_p1_fahr_to_celsius",
     "locked": false,
     "schema_version": 3,
     "solution": true
    }
   },
   "outputs": [],
   "source": [
    "# YOUR CODE HERE\n",
    "raise NotImplementedError()"
   ]
  },
  {
   "cell_type": "markdown",
   "metadata": {
    "deletable": false,
    "editable": false,
    "nbgrader": {
     "cell_type": "markdown",
     "checksum": "f271b0e6d9e1331689c74bd5aa53c5e4",
     "grade": false,
     "grade_id": "cell-b6841605e2c1a46e",
     "locked": true,
     "schema_version": 3,
     "solution": false,
     "task": false
    }
   },
   "source": [
    "**Use** your newly created function to print answers to the following questions:"
   ]
  },
  {
   "cell_type": "code",
   "execution_count": null,
   "metadata": {},
   "outputs": [],
   "source": [
    "# 1. What is 48° Fahrenheit in Celsius? \n",
    "\n",
    "# 2. What about 71° Fahrenheit in Celsius?\n"
   ]
  },
  {
   "cell_type": "markdown",
   "metadata": {
    "deletable": false,
    "editable": false,
    "nbgrader": {
     "cell_type": "markdown",
     "checksum": "3a14953357711b5c74641da7ebb0d995",
     "grade": false,
     "grade_id": "cell-e931ae7f1d35850e",
     "locked": true,
     "schema_version": 3,
     "solution": false
    }
   },
   "source": [
    "### Problem 1 tests\n",
    "\n",
    "Run the code cells below to check your answer. Note that you are not able to modify the test cells. Your solution is on the right track if you don't see any errors when running these code cells. If you receive an error, you need to change something in the code cells above."
   ]
  },
  {
   "cell_type": "code",
   "execution_count": null,
   "metadata": {
    "deletable": false,
    "editable": false,
    "nbgrader": {
     "cell_type": "code",
     "checksum": "d83ed9b66a6afaec31d95158113dc9b0",
     "grade": true,
     "grade_id": "problem_1_ag_p1_fahr_to_celsius_test1",
     "locked": true,
     "points": 1,
     "schema_version": 3,
     "solution": false
    }
   },
   "outputs": [],
   "source": [
    "import inspect\n",
    "\n",
    "# Check that function exists\n",
    "assert inspect.isfunction(fahr_to_celsius), 'Fahr_to_celsius should be a function.'"
   ]
  },
  {
   "cell_type": "code",
   "execution_count": null,
   "metadata": {
    "deletable": false,
    "editable": false,
    "nbgrader": {
     "cell_type": "code",
     "checksum": "0e1f2f94103a45c27662dd10e4757982",
     "grade": true,
     "grade_id": "problem_1_ag_p1_fahr_to_celsius_test2",
     "locked": true,
     "points": 0.5,
     "schema_version": 3,
     "solution": false
    }
   },
   "outputs": [],
   "source": [
    "# Check that the function has a single parameter and the parameter name is correct\n",
    "params = list(inspect.signature(fahr_to_celsius).parameters.keys())\n",
    "assert len(params) == 1, 'The function should have one parameter'\n",
    "assert params[0] == 'temp_fahrenheit', 'The parameter name should be \"temp_fahrenheit\".'"
   ]
  },
  {
   "cell_type": "code",
   "execution_count": null,
   "metadata": {
    "deletable": false,
    "editable": false,
    "nbgrader": {
     "cell_type": "code",
     "checksum": "a0f93065ba93def516a5c0f811313de3",
     "grade": true,
     "grade_id": "problem_1_ag_p1_fahr_to_celsius_test3",
     "locked": true,
     "points": 0.5,
     "schema_version": 3,
     "solution": false
    }
   },
   "outputs": [],
   "source": [
    "# Check that the function produces correct answers for:\n",
    "# 1. What is 48° Fahrenheit in Celsius? \n",
    "assert round(fahr_to_celsius(48), 2) == 8.89"
   ]
  },
  {
   "cell_type": "code",
   "execution_count": null,
   "metadata": {
    "deletable": false,
    "editable": false,
    "nbgrader": {
     "cell_type": "code",
     "checksum": "0e5e0f68775b940438359aa1869c6b4a",
     "grade": true,
     "grade_id": "problem_1_ag_p1_fahr_to_celsius_test4",
     "locked": true,
     "points": 0.5,
     "schema_version": 3,
     "solution": false
    }
   },
   "outputs": [],
   "source": [
    "# 2. What about 71° Fahrenheit in Celsius?\n",
    "assert round(fahr_to_celsius(71), 2) == 21.67"
   ]
  },
  {
   "cell_type": "markdown",
   "metadata": {
    "deletable": false,
    "editable": false,
    "nbgrader": {
     "cell_type": "markdown",
     "checksum": "2adcfbe2d7f73d742ff33e588187a8f4",
     "grade": false,
     "grade_id": "problem1_questions",
     "locked": true,
     "schema_version": 3,
     "solution": false
    }
   },
   "source": [
    "### Check your code\n",
    "\n",
    "- Make sure you used the given variable names\n",
    "- Check that you have added necessary comments to your code\n",
    "- Check that your function has a docstring that describes what it does\n",
    "\n",
    "### Questions\n",
    "\n",
    "We would like you to think about and answer the following questions based on the materials and ideas that you learned during the lecture:\n",
    "\n",
    "  1. Is the concept of function clear to you? If not, what do you not understand?\n",
    "  2. What are some of the benefits of using functions?\n",
    "  \n",
    "Write your answers below (**activate the cell by double clicking**):"
   ]
  },
  {
   "cell_type": "markdown",
   "metadata": {
    "deletable": false,
    "nbgrader": {
     "cell_type": "markdown",
     "checksum": "4ebd3825c6047bba6de4d16c118b6d17",
     "grade": true,
     "grade_id": "problem_1_mg_p2_answers",
     "locked": false,
     "points": 0.5,
     "schema_version": 3,
     "solution": true
    }
   },
   "source": [
    "YOUR ANSWER HERE"
   ]
  },
  {
   "cell_type": "markdown",
   "metadata": {
    "deletable": false,
    "editable": false,
    "nbgrader": {
     "cell_type": "markdown",
     "checksum": "63fba1d962a91f14cf4854d27e8b2f01",
     "grade": false,
     "grade_id": "cell-91ada5e742fd8669",
     "locked": true,
     "schema_version": 3,
     "solution": false
    }
   },
   "source": [
    "#### Done!\n",
    "\n",
    "That's it! Now you are ready to continue with [Problem 2](Exercise-4-problem-2.ipynb)."
   ]
  }
 ],
 "metadata": {
  "kernelspec": {
   "display_name": "Python 3",
   "language": "python",
   "name": "python3"
  },
  "language_info": {
   "codemirror_mode": {
    "name": "ipython",
    "version": 3
   },
   "file_extension": ".py",
   "mimetype": "text/x-python",
   "name": "python",
   "nbconvert_exporter": "python",
   "pygments_lexer": "ipython3",
   "version": "3.8.3"
  }
 },
 "nbformat": 4,
 "nbformat_minor": 4
}
